{
 "cells": [
  {
   "attachments": {},
   "cell_type": "markdown",
   "metadata": {},
   "source": [
    "# 동영상 저장"
   ]
  },
  {
   "cell_type": "code",
   "execution_count": 1,
   "metadata": {},
   "outputs": [],
   "source": [
    "import cv2\n",
    "cap = cv2.VideoCapture('video.mp4') # 동영상 파일을 읽어옴\n",
    "\n",
    "# 코덱 정의\n",
    "fourcc = cv2.VideoWriter_fourcc(*'DIVX') # DIVX 코덱 적용\n",
    "\n",
    "width = round(cap.get(cv2.CAP_PROP_FRAME_WIDTH))    # 동영상의 가로 크기\n",
    "height = round(cap.get(cv2.CAP_PROP_FRAME_HEIGHT))  # 동영상의 세로 크기\n",
    "fps = cap.get(cv2.CAP_PROP_FPS)                     # 동영상의 초당 프레임 수\n",
    "\n",
    "out =  cv2.VideoWriter('output.avi', fourcc, fps, (width, height)) # 동영상 저장을 위한 객체 생성\n",
    "\n",
    "while cap.isOpened():\n",
    "    ret, frame = cap.read()             # 동영상에서 한 프레임씩 읽어옴\n",
    "    if ret:\n",
    "        out.write(frame)                # 프레임 저장\n",
    "        cv2.imshow('video', frame)      # 읽어온 프레임을 화면에 표시\n",
    "        if cv2.waitKey(1) == ord('q'):  # q를 입력하면 종료\n",
    "            break\n",
    "    else:\n",
    "        break\n",
    "\n",
    "out.release()             # 동영상 파일 저장을 종료\n",
    "cap.release()             # 동영상 파일을 닫음\n",
    "cv2.destroyAllWindows()"
   ]
  },
  {
   "cell_type": "code",
   "execution_count": 3,
   "metadata": {},
   "outputs": [
    {
     "name": "stdout",
     "output_type": "stream",
     "text": [
      "DIVX\n",
      "D I V X\n",
      "['DIVX']\n",
      "['D', 'I', 'V', 'X']\n"
     ]
    }
   ],
   "source": [
    "codec = 'DIVX'\n",
    "print(codec)      # 문자열을 출력\n",
    "print(*codec)     # 문자열을 풀어서 출력\n",
    "print([codec])    # 리스트의 요소로 출력\n",
    "print([*codec])   # 리스트의 각 요소를 풀어서 출력"
   ]
  }
 ],
 "metadata": {
  "kernelspec": {
   "display_name": "Python 3",
   "language": "python",
   "name": "python3"
  },
  "language_info": {
   "codemirror_mode": {
    "name": "ipython",
    "version": 3
   },
   "file_extension": ".py",
   "mimetype": "text/x-python",
   "name": "python",
   "nbconvert_exporter": "python",
   "pygments_lexer": "ipython3",
   "version": "3.11.0"
  },
  "orig_nbformat": 4
 },
 "nbformat": 4,
 "nbformat_minor": 2
}
