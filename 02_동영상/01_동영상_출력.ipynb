{
 "cells": [
  {
   "cell_type": "markdown",
   "metadata": {},
   "source": [
    "# 동영상 출력\n",
    "## 동영상 파일 출력"
   ]
  },
  {
   "cell_type": "code",
   "execution_count": 2,
   "metadata": {},
   "outputs": [],
   "source": [
    "import cv2\n",
    "cap = cv2.VideoCapture('video.mp4')\n",
    "\n",
    "while cap.isOpened():                   # 동영상이 열려있는 동안\n",
    "    ret, frame = cap.read()             # ret: 동영상 읽기 성공 여부, frame: 동영상 프레임\n",
    "    if ret:\n",
    "        cv2.imshow('video', frame)      # 동영상 프레임 출력\n",
    "        if cv2.waitKey(25) == ord('q'):  # q를 입력하면 종료 -> 25ms마다 프레임을 출력(영상 속도 조절)\n",
    "            break\n",
    "    else:\n",
    "        print('더 이상 가져올 프레임이 없어요.')\n",
    "        break\n",
    "\n",
    "cap.release()                           # 동영상 파일 닫기\n",
    "cv2.destroyAllWindows()                 # 윈도우 제거"
   ]
  },
  {
   "cell_type": "markdown",
   "metadata": {},
   "source": [
    "## 카메라 출력\n",
    "- 웹 캠 사용하기"
   ]
  },
  {
   "cell_type": "code",
   "execution_count": 1,
   "metadata": {},
   "outputs": [
    {
     "name": "stdout",
     "output_type": "stream",
     "text": [
      "카메라 읽기 실패\n"
     ]
    }
   ],
   "source": [
    "import cv2\n",
    "cap = cv2.VideoCapture(0)        # 0번 카메라 연결(Device ID)\n",
    "\n",
    "if not cap.isOpened:            # 카메라 연결 확인\n",
    "    print('카메라 연결 실패')\n",
    "    exit()                      # 프로그램 종료\n",
    "\n",
    "while True:\n",
    "    ret, frame = cap.read()     # 카메라 프레임 읽기\n",
    "    if ret:\n",
    "        cv2.imshow('camera', frame)     # 프레임 출력\n",
    "        if cv2.waitKey(1) != -1:        # 1ms마다 프레임을 출력(영상 속도 조절)\n",
    "            break                       # 종료\n",
    "    else:\n",
    "        print('카메라 읽기 실패')\n",
    "        break\n",
    "\n",
    "cap.release()\n",
    "cv2.destroyAllWindows()"
   ]
  }
 ],
 "metadata": {
  "kernelspec": {
   "display_name": "Python 3.11.1 64-bit",
   "language": "python",
   "name": "python3"
  },
  "language_info": {
   "codemirror_mode": {
    "name": "ipython",
    "version": 3
   },
   "file_extension": ".py",
   "mimetype": "text/x-python",
   "name": "python",
   "nbconvert_exporter": "python",
   "pygments_lexer": "ipython3",
   "version": "3.11.0"
  },
  "orig_nbformat": 4,
  "vscode": {
   "interpreter": {
    "hash": "81eef19b52451e11e3f8bf6bc518dd5f147d5a651198624c9c211c83ec7c4923"
   }
  }
 },
 "nbformat": 4,
 "nbformat_minor": 2
}
