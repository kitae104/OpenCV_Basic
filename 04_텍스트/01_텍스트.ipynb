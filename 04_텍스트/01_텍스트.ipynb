{
 "cells": [
  {
   "attachments": {},
   "cell_type": "markdown",
   "metadata": {},
   "source": [
    "# 텍스트\n",
    "## OpenCV에서 사용하는 글꼴 종류\n",
    "1. cv2.FONT_HERSHEY_SIMPLEX : 보통 크기의 산세리프체 글꼴 \n",
    "1. cv2.FONT_HERSHEY_PLAIN : 작은 크기의 산세리프체 글꼴\n",
    "1. cv2.FONT_HERSHEY_SCRIPT_SIMPLEX : 보통 크기의 필기체 글꼴\n",
    "1. cv2.FONT_HERSHEY_TRIPLEX : 보통 크기의 세리프체 글꼴 (더 복잡한 버전)\n",
    "1. cv2.FONT_ITALIC : 기울임 - 이탤릭체 글꼴"
   ]
  },
  {
   "cell_type": "code",
   "execution_count": 4,
   "metadata": {},
   "outputs": [],
   "source": [
    "import cv2\n",
    "import numpy as np\n",
    "\n",
    "img = np.zeros((480, 640, 3), np.uint8)   # 빈 캠버스 검은색 배경 생성\n",
    "\n",
    "SCALE = 1                 # 텍스트 크기\n",
    "COLOR = (255, 255, 255)   # 텍스트 색상\n",
    "THICKNESS = 1             # 텍스트 두께\n",
    "\n",
    "cv2.putText(img, 'Kitae Simplex', (20, 50), cv2.FONT_HERSHEY_SIMPLEX, SCALE, COLOR, THICKNESS)\n",
    "cv2.putText(img, 'Kitae Plain', (20, 150), cv2.FONT_HERSHEY_PLAIN, SCALE, COLOR, THICKNESS)\n",
    "cv2.putText(img, 'Kitae Script Simplex', (20, 250), cv2.FONT_HERSHEY_SCRIPT_SIMPLEX, SCALE, COLOR, THICKNESS)\n",
    "cv2.putText(img, 'Kitae Triplex', (20, 350), cv2.FONT_HERSHEY_TRIPLEX, SCALE, COLOR, THICKNESS)\n",
    "cv2.putText(img, 'Kitae Italic', (20, 450), cv2.FONT_HERSHEY_TRIPLEX | cv2.FONT_ITALIC, SCALE, COLOR, THICKNESS)\n",
    "\n",
    "cv2.imshow('img', img)\n",
    "cv2.waitKey(0)\n",
    "cv2.destroyAllWindows()"
   ]
  },
  {
   "attachments": {},
   "cell_type": "markdown",
   "metadata": {},
   "source": [
    "## 한글\n",
    "- 한글 직접 처리 불가"
   ]
  },
  {
   "cell_type": "code",
   "execution_count": 6,
   "metadata": {},
   "outputs": [],
   "source": [
    "import cv2\n",
    "import numpy as np\n",
    "\n",
    "SCALE = 1                 # 텍스트 크기\n",
    "COLOR = (255, 255, 255)   # 텍스트 색상\n",
    "THICKNESS = 1             # 텍스트 두께\n",
    "\n",
    "cv2.putText(img, '기태 프로그램', (20, 50), cv2.FONT_HERSHEY_SIMPLEX, SCALE, COLOR, THICKNESS)\n",
    "\n",
    "\n",
    "cv2.imshow('img', img)\n",
    "cv2.waitKey(0)\n",
    "cv2.destroyAllWindows()"
   ]
  },
  {
   "attachments": {},
   "cell_type": "markdown",
   "metadata": {},
   "source": [
    "## 한글 우회 처리\n",
    "- 우회 처리\n",
    "  - PIL(Python Image Library)"
   ]
  },
  {
   "cell_type": "code",
   "execution_count": 7,
   "metadata": {},
   "outputs": [],
   "source": [
    "import cv2\n",
    "import numpy as np\n",
    "from PIL import ImageFont, ImageDraw, Image\n",
    "\n",
    "def myPutText(src, text, pos, font_size, font_color):\n",
    "    img_pil = Image.fromarray(src)                            # PIL 객체로 변환\n",
    "    draw = ImageDraw.Draw(img_pil)                            # ImageDraw 객체 생성\n",
    "    font = ImageFont.truetype('NanumGothic.ttf', font_size)   # 폰트 설정\n",
    "    draw.text(pos, text, font=font, fill=font_color)          # 텍스트 추가\n",
    "    return np.array(img_pil)                                  # 다시 NumPy 객체로 변환\n",
    "\n",
    "img = np.zeros((480, 640, 3), np.uint8)   # 빈 캠버스 검은색 배경 생성\n",
    "\n",
    "FONT_SIZE = 30            # 텍스트 크기\n",
    "COLOR = (255, 255, 255)   # 텍스트 색상\n",
    "THICKNESS = 1             # 텍스트 두께\n",
    "\n",
    "#cv2.putText(img, '기태 프로그램', (20, 50), cv2.FONT_HERSHEY_SIMPLEX, SCALE, COLOR, THICKNESS)\n",
    "img = myPutText(img, '기태 프로그램', (20, 50), FONT_SIZE, COLOR)\n",
    "\n",
    "\n",
    "cv2.imshow('img', img)\n",
    "cv2.waitKey(0)\n",
    "cv2.destroyAllWindows()"
   ]
  }
 ],
 "metadata": {
  "kernelspec": {
   "display_name": "Python 3",
   "language": "python",
   "name": "python3"
  },
  "language_info": {
   "codemirror_mode": {
    "name": "ipython",
    "version": 3
   },
   "file_extension": ".py",
   "mimetype": "text/x-python",
   "name": "python",
   "nbconvert_exporter": "python",
   "pygments_lexer": "ipython3",
   "version": "3.11.0"
  },
  "orig_nbformat": 4
 },
 "nbformat": 4,
 "nbformat_minor": 2
}
