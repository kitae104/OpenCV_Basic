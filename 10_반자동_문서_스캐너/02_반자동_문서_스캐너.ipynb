{
 "cells": [
  {
   "cell_type": "markdown",
   "metadata": {},
   "source": [
    "# 프로젝트"
   ]
  },
  {
   "cell_type": "code",
   "execution_count": 27,
   "metadata": {},
   "outputs": [],
   "source": [
    "import cv2\n",
    "import numpy as np"
   ]
  },
  {
   "cell_type": "code",
   "execution_count": 28,
   "metadata": {},
   "outputs": [],
   "source": [
    "point_list = [] # 마우스로 찍은 좌표를 저장할 리스트\n",
    "COLOR = (255, 0, 255) # 마우스로 찍을 색상\n",
    "\n",
    "src_img = cv2.imread('poker.jpg')"
   ]
  },
  {
   "cell_type": "code",
   "execution_count": 29,
   "metadata": {},
   "outputs": [],
   "source": [
    "def show_result(point_list):\n",
    "  width, height = 530, 710      # 결과의 크기\n",
    "  src = np.float32(point_list)  # 좌상, 우상, 우하, 좌하(시계 방향으로 4개 지점)  \n",
    "  dst = np.array([[0, 0], [width, 0], [width, height], [0, height]], dtype=np.float32)  # output 4 개 지점\n",
    "\n",
    "  matrix = cv2.getPerspectiveTransform(src, dst)  # 변환 행렬 계산\n",
    "  result = cv2.warpPerspective(src_img, matrix, (width, height))  # matrix대로 원근 변환 적용\n",
    "\n",
    "  cv2.imshow('result', result)"
   ]
  },
  {
   "cell_type": "code",
   "execution_count": 30,
   "metadata": {},
   "outputs": [],
   "source": [
    "def mouse_handler(event, x, y, flags, param):\n",
    "    if event == cv2.EVENT_LBUTTONDOWN:\n",
    "        point_list.append((x, y))       # 마우스를 클릭한 좌표를 리스트에 저장\n",
    "\n",
    "    for point in point_list:\n",
    "      cv2.circle(src_img, point, 15, COLOR, cv2.FILLED)  # 마우스 클릭한 좌표에 원을 그림\n",
    "\n",
    "    if len(point_list) == 4:\n",
    "      show_result(point_list)                     # 4개의 좌표를 모두 찍으면 결과를 보여줌    \n",
    "\n",
    "    cv2.imshow('img', src_img)          # 원이 그려진 이미지를 보여줌 "
   ]
  },
  {
   "cell_type": "code",
   "execution_count": 31,
   "metadata": {},
   "outputs": [],
   "source": [
    "cv2.namedWindow('img')      # 이미지를 출력할 창을 생성\n",
    "cv2.setMouseCallback('img', mouse_handler)  # 마우스 이벤트를 처리할 함수를 등록\n",
    "cv2.imshow('img', src_img)  # 원본 이미지를 출력\n",
    "cv2.waitKey(0)              # 키보드 입력을 대기\n",
    "cv2.destroyAllWindows()     # 창을 닫음"
   ]
  }
 ],
 "metadata": {
  "kernelspec": {
   "display_name": "Python 3.11.1 64-bit",
   "language": "python",
   "name": "python3"
  },
  "language_info": {
   "codemirror_mode": {
    "name": "ipython",
    "version": 3
   },
   "file_extension": ".py",
   "mimetype": "text/x-python",
   "name": "python",
   "nbconvert_exporter": "python",
   "pygments_lexer": "ipython3",
   "version": "3.11.1"
  },
  "orig_nbformat": 4,
  "vscode": {
   "interpreter": {
    "hash": "81eef19b52451e11e3f8bf6bc518dd5f147d5a651198624c9c211c83ec7c4923"
   }
  }
 },
 "nbformat": 4,
 "nbformat_minor": 2
}
