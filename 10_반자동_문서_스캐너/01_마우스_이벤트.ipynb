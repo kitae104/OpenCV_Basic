{
 "cells": [
  {
   "cell_type": "markdown",
   "metadata": {},
   "source": [
    "# 반자동 문서 스캐너\n",
    "## 마우스 이벤트 등록"
   ]
  },
  {
   "cell_type": "code",
   "execution_count": 7,
   "metadata": {},
   "outputs": [],
   "source": [
    "import cv2"
   ]
  },
  {
   "cell_type": "code",
   "execution_count": 8,
   "metadata": {},
   "outputs": [],
   "source": [
    "def mouse_handler(event, x, y, flags, param):\n",
    "    if event == cv2.EVENT_LBUTTONDOWN:\n",
    "        print('x = %d, y = %d' % (x, y))\n",
    "    # elif event == cv2.EVENT_LBUTTONUP:\n",
    "    #     print('왼쪽 버튼 떼기')\n",
    "    # elif event == cv2.EVENT_MOUSEMOVE:\n",
    "    #     print('마우스 이동')\n",
    "    # elif event == cv2.EVENT_RBUTTONDOWN:\n",
    "    #     print('오른쪽 버튼 누르기')\n",
    "    # elif event == cv2.EVENT_LBUTTONDBLCLK:\n",
    "    #     print('왼쪽 버튼 더블클릭')"
   ]
  },
  {
   "cell_type": "code",
   "execution_count": 9,
   "metadata": {},
   "outputs": [
    {
     "name": "stdout",
     "output_type": "stream",
     "text": [
      "x = 543, y = 415\n",
      "왼쪽 버튼 떼기\n",
      "x = 347, y = 586\n",
      "왼쪽 버튼 떼기\n",
      "왼쪽 버튼 더블클릭\n",
      "왼쪽 버튼 떼기\n",
      "x = 957, y = 491\n",
      "왼쪽 버튼 떼기\n",
      "왼쪽 버튼 더블클릭\n",
      "왼쪽 버튼 떼기\n",
      "오른쪽 버튼 누르기\n",
      "x = 376, y = 349\n",
      "왼쪽 버튼 떼기\n",
      "오른쪽 버튼 누르기\n"
     ]
    }
   ],
   "source": [
    "img = cv2.imread('poker.jpg')\n",
    "cv2.namedWindow('img') # 이미지를 출력할 창 생성 -> 마우스 이벤트를 위한 핸들러 적용 \n",
    "cv2.setMouseCallback('img', mouse_handler) # 마우스 이벤트 핸들러 등록\n",
    "cv2.imshow('img', img)\n",
    "cv2.waitKey(0)\n",
    "cv2.destroyAllWindows()"
   ]
  }
 ],
 "metadata": {
  "kernelspec": {
   "display_name": "Python 3.11.1 64-bit",
   "language": "python",
   "name": "python3"
  },
  "language_info": {
   "codemirror_mode": {
    "name": "ipython",
    "version": 3
   },
   "file_extension": ".py",
   "mimetype": "text/x-python",
   "name": "python",
   "nbconvert_exporter": "python",
   "pygments_lexer": "ipython3",
   "version": "3.11.1"
  },
  "orig_nbformat": 4,
  "vscode": {
   "interpreter": {
    "hash": "81eef19b52451e11e3f8bf6bc518dd5f147d5a651198624c9c211c83ec7c4923"
   }
  }
 },
 "nbformat": 4,
 "nbformat_minor": 2
}
