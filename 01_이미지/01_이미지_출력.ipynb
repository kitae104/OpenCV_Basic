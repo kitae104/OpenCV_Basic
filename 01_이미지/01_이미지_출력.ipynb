{
 "cells": [
  {
   "cell_type": "markdown",
   "metadata": {},
   "source": [
    "# 이미지 출력\n",
    "- 라이브러리 설치 \n",
    "- pip install opencv-python\n",
    "\n",
    "## OpenCV\n",
    "다양한 이미지 처리 기능을 제공하는 라이브러리\n"
   ]
  },
  {
   "cell_type": "code",
   "execution_count": 1,
   "metadata": {},
   "outputs": [
    {
     "data": {
      "text/plain": [
       "'4.8.0'"
      ]
     },
     "execution_count": 1,
     "metadata": {},
     "output_type": "execute_result"
    }
   ],
   "source": [
    "import cv2\n",
    "cv2.__version__"
   ]
  },
  {
   "cell_type": "markdown",
   "metadata": {},
   "source": [
    "#### 1. 이미지 출력\n",
    "- pixabay\n",
    "- 처음에는 이미지 안나오지만 활성화 시키면 나옴"
   ]
  },
  {
   "cell_type": "code",
   "execution_count": 4,
   "metadata": {},
   "outputs": [
    {
     "name": "stdout",
     "output_type": "stream",
     "text": [
      "97\n"
     ]
    }
   ],
   "source": [
    "import cv2\n",
    "img = cv2.imread('img.jpg')   # 이미지를 읽어서 img 변수에 할당\n",
    "cv2.imshow('img', img)        # 이미지를 화면에 출력\n",
    "key = cv2.waitKey(5000)       # 5초 동안 키보드 입력을 대기\n",
    "print(key)                    # 입력한 키보드의 ASCII 코드를 출력 -> 특정 키 값으로 처리 가능\n",
    "cv2.destroyAllWindows()       # 화면에 나타난 윈도우를 종료   "
   ]
  },
  {
   "cell_type": "markdown",
   "metadata": {},
   "source": [
    "##### 읽기 옵션\n",
    "1. cv2.IMREAD_COLOR : 이미지 파일을 Color로 읽어들임. 투명한 부분은 무시되며, Default 값\n",
    "2. cv2.IMREAD_GRAYSCALE : 이미지를 Grayscale로 읽어 들임. 실제 이미지 처리시 중간단계로 많이 사용\n",
    "3. cv2.IMREAD_UNCHANGED : 이미지파일을 alpha channel까지 포함하여 읽어 들임"
   ]
  },
  {
   "cell_type": "code",
   "execution_count": 6,
   "metadata": {},
   "outputs": [],
   "source": [
    "import cv2\n",
    "img_color = cv2.imread('img.jpg', cv2.IMREAD_COLOR)         # 컬러 영상으로 읽기\n",
    "img_gray = cv2.imread('img.jpg', cv2.IMREAD_GRAYSCALE)      # 그레이스케일 영상으로 읽기\n",
    "img_unchanged = cv2.imread('img.jpg', cv2.IMREAD_UNCHANGED) # 영상 그대로 읽기    \n",
    "\n",
    "cv2.imshow('img_color', img_color)\n",
    "cv2.imshow('img_gray', img_gray)\n",
    "cv2.imshow('img_unchanged', img_unchanged)\n",
    "\n",
    "cv2.waitKey(0)\n",
    "cv2.destroyAllWindows()"
   ]
  },
  {
   "cell_type": "markdown",
   "metadata": {},
   "source": [
    "#### Shape\n",
    "- 이미지의 height, width, channel 정보를 가짐"
   ]
  },
  {
   "cell_type": "code",
   "execution_count": 7,
   "metadata": {},
   "outputs": [
    {
     "data": {
      "text/plain": [
       "(391, 640, 3)"
      ]
     },
     "execution_count": 7,
     "metadata": {},
     "output_type": "execute_result"
    }
   ],
   "source": [
    "import cv2\n",
    "img = cv2.imread('img.jpg') # 이미지를 읽어서 img 변수에 할당\n",
    "img.shape                   # 이미지의 크기를 확인(높이, 너비, 채널)"
   ]
  }
 ],
 "metadata": {
  "kernelspec": {
   "display_name": "Python 3.11.1 64-bit",
   "language": "python",
   "name": "python3"
  },
  "language_info": {
   "codemirror_mode": {
    "name": "ipython",
    "version": 3
   },
   "file_extension": ".py",
   "mimetype": "text/x-python",
   "name": "python",
   "nbconvert_exporter": "python",
   "pygments_lexer": "ipython3",
   "version": "3.11.1"
  },
  "orig_nbformat": 4,
  "vscode": {
   "interpreter": {
    "hash": "81eef19b52451e11e3f8bf6bc518dd5f147d5a651198624c9c211c83ec7c4923"
   }
  }
 },
 "nbformat": 4,
 "nbformat_minor": 2
}
