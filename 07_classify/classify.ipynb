{
 "cells": [
  {
   "cell_type": "code",
   "execution_count": 1,
   "metadata": {},
   "outputs": [],
   "source": [
    "import sys\n",
    "import numpy as np\n",
    "import cv2"
   ]
  },
  {
   "cell_type": "code",
   "execution_count": 2,
   "metadata": {},
   "outputs": [],
   "source": [
    "filename = 'BTS.jpg'\n",
    "\n",
    "# if len(sys.argv) > 1:\n",
    "#     filename = sys.argv[1]\n",
    "\n",
    "img = cv2.imread(filename)\n",
    "\n",
    "if img is None:\n",
    "    print('Image load failed!')\n",
    "    exit()"
   ]
  },
  {
   "cell_type": "code",
   "execution_count": 3,
   "metadata": {},
   "outputs": [],
   "source": [
    "# Load network\n",
    "# 미리 학습된 네트워크를 불러온다.\n",
    "net = cv2.dnn.readNet('bvlc_googlenet.caffemodel', 'deploy.prototxt')   # 1. GoogleNet 불러오기\n",
    "\n",
    "if net.empty():\n",
    "    print('Network load failed!')\n",
    "    exit()"
   ]
  },
  {
   "cell_type": "code",
   "execution_count": 4,
   "metadata": {},
   "outputs": [],
   "source": [
    "# Load class names\n",
    "\n",
    "classNames = None\n",
    "with open('classification_classes_ILSVRC2012.txt', 'rt') as f:  # 2. 클래스 이름 불러오기\n",
    "    classNames = f.read().rstrip('\\n').split('\\n')              "
   ]
  },
  {
   "cell_type": "code",
   "execution_count": 5,
   "metadata": {},
   "outputs": [],
   "source": [
    "# Inference\n",
    "# 이미지, 사이즈 리사이징, 평균값 설정 등의 전처리를 해준다.\n",
    "inputBlob = cv2.dnn.blobFromImage(img, 1, (224, 224), (104, 117, 123)) # 3. 이미지를 불러와서 전처리하기\n",
    "net.setInput(inputBlob, 'data')\n",
    "prob = net.forward()"
   ]
  },
  {
   "cell_type": "code",
   "execution_count": 6,
   "metadata": {},
   "outputs": [],
   "source": [
    "# Check results & Display\n",
    "\n",
    "out = prob.flatten()                # 1차원으로 펴주기\n",
    "classId = np.argmax(out)            # 가장 큰 값의 인덱스를 찾아준다.\n",
    "confidence = out[classId]           # 가장 큰 값의 인덱스에 해당하는 값을 찾아준다.\n",
    "text = '%s (%4.2f%%)' % (classNames[classId], confidence * 100)\n",
    "cv2.putText(img, text, (10, 30), cv2.FONT_HERSHEY_SIMPLEX, 0.8, (0, 0, 255), 1, cv2.LINE_AA)\n",
    "\n",
    "cv2.imshow('img', img)\n",
    "cv2.waitKey()\n",
    "cv2.destroyAllWindows()"
   ]
  }
 ],
 "metadata": {
  "kernelspec": {
   "display_name": "Python 3.11.1 64-bit",
   "language": "python",
   "name": "python3"
  },
  "language_info": {
   "codemirror_mode": {
    "name": "ipython",
    "version": 3
   },
   "file_extension": ".py",
   "mimetype": "text/x-python",
   "name": "python",
   "nbconvert_exporter": "python",
   "pygments_lexer": "ipython3",
   "version": "3.11.1"
  },
  "orig_nbformat": 4,
  "vscode": {
   "interpreter": {
    "hash": "81eef19b52451e11e3f8bf6bc518dd5f147d5a651198624c9c211c83ec7c4923"
   }
  }
 },
 "nbformat": 4,
 "nbformat_minor": 2
}
