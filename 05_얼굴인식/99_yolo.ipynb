{
 "cells": [
  {
   "cell_type": "code",
   "execution_count": 5,
   "metadata": {},
   "outputs": [],
   "source": [
    "import cv2\n",
    "import numpy as np"
   ]
  },
  {
   "cell_type": "code",
   "execution_count": 6,
   "metadata": {},
   "outputs": [],
   "source": [
    "# Yolo 로드\n",
    "net = cv2.dnn.readNet(\"yolov3.weights\", \"yolov3.cfg\") # weights, cfg파일을 불러와서 yolo의 네트워크와 연결한다. \n",
    "classes = [] #class 배열 만들기\n",
    "with open(\"coco.names\", \"r\") as f:                      # coco 파일을 읽어온다. \n",
    "    classes = [line.strip() for line in f.readlines()]  # 읽어온 coco 파일을 whitespace(공백라인)를 제거하여 classes 배열 안에 넣는다.\n",
    "\n",
    "layer_names = net.getLayerNames()                       # 네트워크의 모든 레이어 이름을 가져와서 layer_names에 넣는다.\n",
    "output_layers = [layer_names[i - 1] for i in net.getUnconnectedOutLayers()] # 레이어 중 출력 레이어의 인덱스를 가져와서 output_layers에 넣는다.\n",
    "colors = np.random.uniform(0, 255, size=(len(classes), 3)) # 클래스의 갯수만큼 랜덤으로 BRG 배열을 생성한다. 한 사물 당 하나의 color만 사용할 수 있도록 해서 구분해야한다."
   ]
  },
  {
   "cell_type": "code",
   "execution_count": 8,
   "metadata": {},
   "outputs": [],
   "source": [
    "# 이미지 가져오기\n",
    "img = cv2.imread(\"IVE.jpg\") # opencv를 통해 이미지를 가져온다.\n",
    "if img is None:\n",
    "    print('Image not found or unable to open.')\n",
    "else:\n",
    "    img = cv2.resize(img, None, fx=1.4, fy=1.4)\n",
    "# img = cv2.resize(img, None, fx=0.4, fy=0.4) # 이미지 크기를 재설정한다. \n",
    "height, width, channels = img.shape # 이미지의 속성들을 넣는다."
   ]
  },
  {
   "cell_type": "code",
   "execution_count": 9,
   "metadata": {},
   "outputs": [],
   "source": [
    "# 물체 감지\n",
    "blob = cv2.dnn.blobFromImage(img, 0.00392, (416, 416), (0, 0, 0), True, crop=False) # 이미지를 blob 객체로 처리한다.\n",
    "net.setInput(blob) # blob 객체에 setInput 함수를 적용한다. \n",
    "outs = net.forward(output_layers) #output_layers를 네트워크 순방향으로 실행(추론)한다."
   ]
  },
  {
   "cell_type": "code",
   "execution_count": 10,
   "metadata": {},
   "outputs": [],
   "source": [
    "#정보를 화면에 표시\n",
    "class_ids = []  # 인식한 사물 클래스 아이디를 넣는 배열\n",
    "confidences = [] # 0에서 1까지 사물 인식에 대한 신뢰도를 넣는 배열\n",
    "boxes = [] # 사물을 인식해서 그릴 상자에 대한 배열 \n",
    "for out in outs:\n",
    "    for detection in out:\n",
    "        scores = detection[5:] #\n",
    "        class_id = np.argmax(scores) # scores 중에서 최대값을 색인하여 class_id에 넣는다.\n",
    "        confidence = scores[class_id] # scores 중에서 class_id에 해당하는 값을 confidence에 넣는다.\n",
    "        if confidence > 0.5:  # 만약 정확도가 0.5가 넘는다면 사물이 인식되었다고 판단\n",
    "            # 객체 탐지(Object detected)\n",
    "            center_x = int(detection[0] * width) # \n",
    "            center_y = int(detection[1] * height) # \n",
    "            w = int(detection[2] * width) # \n",
    "            h = int(detection[3] * height) # \n",
    "            # 좌표\n",
    "            x = int(center_x - w / 2) # \n",
    "            y = int(center_y - h / 2) # \n",
    "            boxes.append([x, y, w, h])\n",
    "            confidences.append(float(confidence))\n",
    "            class_ids.append(class_id)"
   ]
  },
  {
   "cell_type": "code",
   "execution_count": 11,
   "metadata": {},
   "outputs": [],
   "source": [
    "#노이즈 제거\n",
    "indexes = cv2.dnn.NMSBoxes(boxes, confidences, 0.5, 0.4)"
   ]
  },
  {
   "cell_type": "code",
   "execution_count": 12,
   "metadata": {},
   "outputs": [],
   "source": [
    "font = cv2.FONT_HERSHEY_PLAIN # Font종류 중 하나인 FONT_HERSHEY_PLAIN(작은 크기 산세리프 폰트)를 적용한다.\n",
    "for i in range(len(boxes)): \n",
    "    if i in indexes:\n",
    "        x, y, w, h = boxes[i] \n",
    "        label = str(classes[class_ids[i]]) # 클래스 아이디 지정해둔 것을 label변수에 저장\n",
    "        color = colors[i] #위에서 colors배열에 색상을 넣어둔 것을 color에 저장\n",
    "        cv2.rectangle(img, (x, y), (x + w, y + h), color, 2) # 사각형을 그린다. \n",
    "        cv2.putText(img, label, (x, y + 30), font, 3, color, 3) # yolo에서 학습된 사물의 명칭을 출력한다.\n",
    "cv2.imshow(\"Image\", img) # 이미지 출력\n",
    "cv2.waitKey(0) # waitKey() : 0 -> 키 입력이 있을 때까지 무한 대기한다. / ms 단위로 입력하면 그 단위에 따라 대기한다.\n",
    "cv2.destroyAllWindows() # 열린 모든 창을 닫는다."
   ]
  }
 ],
 "metadata": {
  "kernelspec": {
   "display_name": "Python 3.11.1 64-bit",
   "language": "python",
   "name": "python3"
  },
  "language_info": {
   "codemirror_mode": {
    "name": "ipython",
    "version": 3
   },
   "file_extension": ".py",
   "mimetype": "text/x-python",
   "name": "python",
   "nbconvert_exporter": "python",
   "pygments_lexer": "ipython3",
   "version": "3.11.1"
  },
  "orig_nbformat": 4,
  "vscode": {
   "interpreter": {
    "hash": "81eef19b52451e11e3f8bf6bc518dd5f147d5a651198624c9c211c83ec7c4923"
   }
  }
 },
 "nbformat": 4,
 "nbformat_minor": 2
}
