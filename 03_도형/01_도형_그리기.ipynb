{
 "cells": [
  {
   "cell_type": "markdown",
   "metadata": {},
   "source": [
    "# 도형 그리기\n",
    "## 빈 스케치북 만들기"
   ]
  },
  {
   "cell_type": "code",
   "execution_count": 1,
   "metadata": {},
   "outputs": [],
   "source": [
    "import cv2\n",
    "import numpy as np"
   ]
  },
  {
   "cell_type": "markdown",
   "metadata": {},
   "source": [
    "세로 480 X 가로 640, 3채널(RGB)에 해당하는 빈 스케치북을 만들기\n",
    "- BGR : OpenCV에서 사용하는 컬러 모드"
   ]
  },
  {
   "cell_type": "code",
   "execution_count": 5,
   "metadata": {},
   "outputs": [],
   "source": [
    "img = np.zeros((480, 640, 3), dtype=np.uint8) # 검은색 배경\n",
    "# img[:] = (255, 255, 255)  # 흰색 배경\n",
    "# print(img)\n",
    "cv2.imshow('img', img)\n",
    "cv2.waitKey(0)\n",
    "cv2.destroyAllWindows()"
   ]
  },
  {
   "cell_type": "markdown",
   "metadata": {},
   "source": [
    "## 일부 영역 색칠\n",
    "- img[100:200, 200:300] 세로 영역 100~200, 가로 영역 200~300을 흰색으로 채우기"
   ]
  },
  {
   "cell_type": "code",
   "execution_count": 6,
   "metadata": {},
   "outputs": [],
   "source": [
    "import cv2\n",
    "import numpy as np\n",
    "\n",
    "img = np.zeros((480, 640, 3), dtype=np.uint8) # 검은색 배경\n",
    "\n",
    "img[100:200, 200:300] = (255, 255, 255)  # 일부만 흰색 적용\n",
    "\n",
    "cv2.imshow('img', img)\n",
    "cv2.waitKey(0)\n",
    "cv2.destroyAllWindows()"
   ]
  },
  {
   "cell_type": "markdown",
   "metadata": {},
   "source": [
    "## 직선 그리기\n",
    "직선의 종류(line type)\n",
    "1. cv2.LINE_4 : 상하좌우 4 방향으로 된 선\n",
    "1. cv2.LINE_8 : 상하좌우 대각선을 포함한 8 방향으로 된 선\n",
    "1. cv2.LINE_AA : cv2.LINE_8과 유사하지만, 안티앨리어싱(Anti-Aliasing)이 적용된 선"
   ]
  },
  {
   "cell_type": "code",
   "execution_count": 9,
   "metadata": {},
   "outputs": [],
   "source": [
    "import cv2\n",
    "import numpy as np\n",
    "\n",
    "img = np.zeros((480, 640, 3), dtype=np.uint8) # 검은색 배경\n",
    "\n",
    "COLOR = (0, 255, 255)   # 노란색 BGR\n",
    "THICKNESS = 3           # 선 두께\n",
    "\n",
    "cv2.line(img, (50, 100), (400, 50), COLOR, THICKNESS, cv2.LINE_8)\n",
    "cv2.line(img, (50, 200), (400, 150), COLOR, THICKNESS, cv2.LINE_4)\n",
    "cv2.line(img, (50, 300), (400, 250), COLOR, THICKNESS, cv2.LINE_AA)\n",
    "\n",
    "cv2.imshow('img', img)\n",
    "cv2.waitKey(0)\n",
    "cv2.destroyAllWindows()"
   ]
  }
 ],
 "metadata": {
  "kernelspec": {
   "display_name": "Python 3.11.1 64-bit",
   "language": "python",
   "name": "python3"
  },
  "language_info": {
   "codemirror_mode": {
    "name": "ipython",
    "version": 3
   },
   "file_extension": ".py",
   "mimetype": "text/x-python",
   "name": "python",
   "nbconvert_exporter": "python",
   "pygments_lexer": "ipython3",
   "version": "3.11.1"
  },
  "orig_nbformat": 4,
  "vscode": {
   "interpreter": {
    "hash": "81eef19b52451e11e3f8bf6bc518dd5f147d5a651198624c9c211c83ec7c4923"
   }
  }
 },
 "nbformat": 4,
 "nbformat_minor": 2
}
