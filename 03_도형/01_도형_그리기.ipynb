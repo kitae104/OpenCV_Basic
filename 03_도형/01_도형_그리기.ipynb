{
 "cells": [
  {
   "cell_type": "markdown",
   "metadata": {},
   "source": [
    "# 도형 그리기\n",
    "## 빈 스케치북 만들기"
   ]
  },
  {
   "cell_type": "code",
   "execution_count": 1,
   "metadata": {},
   "outputs": [],
   "source": [
    "import cv2\n",
    "import numpy as np"
   ]
  },
  {
   "cell_type": "markdown",
   "metadata": {},
   "source": [
    "세로 480 X 가로 640, 3채널(RGB)에 해당하는 빈 스케치북을 만들기\n",
    "- BGR : OpenCV에서 사용하는 컬러 모드"
   ]
  },
  {
   "cell_type": "code",
   "execution_count": 5,
   "metadata": {},
   "outputs": [],
   "source": [
    "img = np.zeros((480, 640, 3), dtype=np.uint8) # 검은색 배경\n",
    "# img[:] = (255, 255, 255)  # 흰색 배경\n",
    "# print(img)\n",
    "cv2.imshow('img', img)\n",
    "cv2.waitKey(0)\n",
    "cv2.destroyAllWindows()"
   ]
  },
  {
   "cell_type": "markdown",
   "metadata": {},
   "source": [
    "## 일부 영역 색칠\n",
    "- img[100:200, 200:300] 세로 영역 100~200, 가로 영역 200~300을 흰색으로 채우기"
   ]
  },
  {
   "cell_type": "code",
   "execution_count": 6,
   "metadata": {},
   "outputs": [],
   "source": [
    "import cv2\n",
    "import numpy as np\n",
    "\n",
    "img = np.zeros((480, 640, 3), dtype=np.uint8) # 검은색 배경\n",
    "\n",
    "img[100:200, 200:300] = (255, 255, 255)  # 일부만 흰색 적용\n",
    "\n",
    "cv2.imshow('img', img)\n",
    "cv2.waitKey(0)\n",
    "cv2.destroyAllWindows()"
   ]
  },
  {
   "cell_type": "markdown",
   "metadata": {},
   "source": [
    "## 직선 그리기\n",
    "직선의 종류(line type)\n",
    "1. cv2.LINE_4 : 상하좌우 4 방향으로 된 선\n",
    "1. cv2.LINE_8 : 상하좌우 대각선을 포함한 8 방향으로 된 선\n",
    "1. cv2.LINE_AA : cv2.LINE_8과 유사하지만, 안티앨리어싱(Anti-Aliasing)이 적용된 선"
   ]
  },
  {
   "cell_type": "code",
   "execution_count": 5,
   "metadata": {},
   "outputs": [],
   "source": [
    "import cv2\n",
    "import numpy as np\n",
    "\n",
    "img = np.zeros((480, 640, 3), dtype=np.uint8) # 검은색 배경\n",
    "\n",
    "COLOR = (0, 255, 255)   # 노란색 BGR\n",
    "THICKNESS = 3           # 선 두께\n",
    "\n",
    "cv2.line(img, (50, 100), (400, 50), COLOR, THICKNESS, cv2.LINE_8)\n",
    "cv2.line(img, (50, 200), (400, 150), COLOR, THICKNESS, cv2.LINE_4)\n",
    "cv2.line(img, (50, 300), (400, 250), COLOR, THICKNESS, cv2.LINE_AA)\n",
    "\n",
    "cv2.imshow('img', img)\n",
    "cv2.waitKey(0)\n",
    "cv2.destroyAllWindows()"
   ]
  },
  {
   "attachments": {},
   "cell_type": "markdown",
   "metadata": {},
   "source": [
    "## 원"
   ]
  },
  {
   "cell_type": "code",
   "execution_count": 6,
   "metadata": {},
   "outputs": [],
   "source": [
    "import cv2\n",
    "import numpy as np\n",
    "\n",
    "img = np.zeros((480, 640, 3), dtype=np.uint8) # 검은색 배경\n",
    "\n",
    "COLOR = (255, 255, 0)   # 노란색 BGR\n",
    "RADIUS = 50             # 반지름\n",
    "THICKNESS = 10          # 선 두께\n",
    "\n",
    "cv2.circle(img, (200, 100), RADIUS, COLOR, THICKNESS, cv2.LINE_AA)  \n",
    "cv2.circle(img, (400, 100), RADIUS, COLOR, cv2.FILLED, cv2.LINE_AA) \n",
    "\n",
    "\n",
    "cv2.imshow('img', img)\n",
    "cv2.waitKey(0)\n",
    "cv2.destroyAllWindows()"
   ]
  },
  {
   "attachments": {},
   "cell_type": "markdown",
   "metadata": {},
   "source": [
    "## 사격형"
   ]
  },
  {
   "cell_type": "code",
   "execution_count": 8,
   "metadata": {},
   "outputs": [],
   "source": [
    "import cv2\n",
    "import numpy as np\n",
    "\n",
    "img = np.zeros((480, 640, 3), dtype=np.uint8) # 검은색 배경\n",
    "\n",
    "COLOR = (0, 255, 0)   # 초록색 BGR\n",
    "THICKNESS = 3         # 선 두께\n",
    "\n",
    "cv2.rectangle(img, (100, 100), (200, 200), COLOR, THICKNESS, cv2.LINE_8)  # 속이 빈 사각형 \n",
    "cv2.rectangle(img, (300, 100), (400, 200), COLOR, cv2.FILLED, cv2.LINE_8) # 속이 채워진 사각형\n",
    "\n",
    "cv2.imshow('img', img)\n",
    "cv2.waitKey(0)\n",
    "cv2.destroyAllWindows()"
   ]
  },
  {
   "attachments": {},
   "cell_type": "markdown",
   "metadata": {},
   "source": [
    "## 다각형"
   ]
  },
  {
   "cell_type": "code",
   "execution_count": 14,
   "metadata": {},
   "outputs": [],
   "source": [
    "import cv2\n",
    "import numpy as np\n",
    "\n",
    "img = np.zeros((480, 640, 3), dtype=np.uint8) # 검은색 배경\n",
    "\n",
    "COLOR = (0, 0, 255)   # 빨간색 BGR\n",
    "THICKNESS = 3         # 선 두께\n",
    "\n",
    "pts1 = np.array([[50, 50], [150, 150], [100, 140], [200, 240]], dtype=np.int32) # 넘파이 배열을 이용한 다각형\n",
    "pts2 = np.array([[350, 50], [250, 200], [450, 200]], dtype=np.int32)\n",
    "\n",
    "# cv2.polylines(img, [pts1], False, COLOR, THICKNESS, cv2.LINE_8)   # 닫히지 않은 다각형\n",
    "# cv2.polylines(img, [pts2], True, COLOR, THICKNESS, cv2.LINE_AA)   # 닫힌 다각형\n",
    "cv2.polylines(img, [pts1, pts2], True, COLOR, THICKNESS, cv2.LINE_AA)   # 닫힌 속이 빈 다각형\n",
    "\n",
    "cv2.fillPoly(img, [pts1, pts2], COLOR, cv2.LINE_AA)   # 닫힌 속이 채워진 다각형\n",
    "\n",
    "cv2.imshow('img', img)\n",
    "cv2.waitKey(0)\n",
    "cv2.destroyAllWindows()"
   ]
  }
 ],
 "metadata": {
  "kernelspec": {
   "display_name": "Python 3.11.1 64-bit",
   "language": "python",
   "name": "python3"
  },
  "language_info": {
   "codemirror_mode": {
    "name": "ipython",
    "version": 3
   },
   "file_extension": ".py",
   "mimetype": "text/x-python",
   "name": "python",
   "nbconvert_exporter": "python",
   "pygments_lexer": "ipython3",
   "version": "3.11.1"
  },
  "orig_nbformat": 4,
  "vscode": {
   "interpreter": {
    "hash": "81eef19b52451e11e3f8bf6bc518dd5f147d5a651198624c9c211c83ec7c4923"
   }
  }
 },
 "nbformat": 4,
 "nbformat_minor": 2
}
